{
 "cells": [
  {
   "cell_type": "markdown",
   "source": [
    "# Comandos Básicos de Python\r\n",
    "### Daniel Florea para ICM2803"
   ],
   "metadata": {}
  },
  {
   "cell_type": "markdown",
   "source": [
    "_Como pueden recordar, Python es el lenguaje de programación más popular hoy en día, en especial para sus usos en el marco de la programación científica. Es tan versátil que se puede utilizar para tareas como realizar simulaciones de fluidos, inteligencia artificial, desarrollo web y muchos otros roles._\r\n",
    "\r\n",
    "#### En este curso nos enfocaremos en el uso de Python y sus librerías como herramientas para modelar sistemas mecánicos."
   ],
   "metadata": {}
  },
  {
   "cell_type": "markdown",
   "source": [
    "## Jupyter Notebook\r\n",
    "Quizás estés familiarizad@ con la herramienta de Jupyter Notebook, de no ser así, felicitaciones! Estas usándola ahora mismo :)\r\n",
    "\r\n",
    "Jupyter Notebook es una forma de ejecutar código de python en lo llamado \"celdas\", cada celda se ejecuta con la flecha a su izquierda o bien apretando las teclas ````Ctrl + Enter```` al tenerlo seleccionado. Todas las variables que se guarden en la ejecución de una celda pueden ser accedidas por las que le siguen en el notebook, por ejemplo, intenta ejecutar las siguientes celdas y ver que es lo que ocurre:"
   ],
   "metadata": {}
  },
  {
   "cell_type": "code",
   "execution_count": 1,
   "source": [
    "# Hola! Soy un comentario, en Python puedes añadirme después del caracter \"#\",\r\n",
    "# durante esa línea, todo el texto que esté escrio no será ejecutado\r\n",
    "\r\n",
    "# Asignaremos un valor a cada una de nuestras dos variables\r\n",
    "a = 123\r\n",
    "b = 456\r\n",
    "\r\n",
    "# Printeamos nuestras variables en la consola (los prints se mostrarán debajo de la celda ejecutada)\r\n",
    "print(a, b)"
   ],
   "outputs": [
    {
     "output_type": "stream",
     "name": "stdout",
     "text": [
      "123 456\n"
     ]
    }
   ],
   "metadata": {}
  },
  {
   "cell_type": "code",
   "execution_count": 2,
   "source": [
    "# Si no existe ningún print, Jupyter mostrará el output de la última celda\r\n",
    "a + b"
   ],
   "outputs": [
    {
     "output_type": "execute_result",
     "data": {
      "text/plain": [
       "579"
      ]
     },
     "metadata": {},
     "execution_count": 2
    }
   ],
   "metadata": {}
  },
  {
   "cell_type": "markdown",
   "source": [
    "# Repaso de Introducción a la Programación\r\n",
    "Si ya has cursado Programación Avanzada, creo poder decir con seguridad que ya sabrás todo lo que se mostrará a continuación en el Notebook, aún así, siempre es bueno tener los comando básicos anotados en algún lado 😉."
   ],
   "metadata": {}
  },
  {
   "cell_type": "markdown",
   "source": [
    "## Tipos de variables\r\n",
    "En Python existen múltiples categorías para las variables, esto quiere decir que los elementos de texto son de una categoría distinta a los elementos numéricos, y dentro de los elementos numéricos, los enteros son distintos de los decimales.\r\n",
    "\r\n",
    "Aquí están las categorías de datos más importantes:"
   ],
   "metadata": {}
  },
  {
   "cell_type": "markdown",
   "source": [
    "### STRING - str()\r\n",
    "Se trata del elemento de texto en Python, se escribe entre comillas (simples o dobles)"
   ],
   "metadata": {}
  },
  {
   "cell_type": "code",
   "execution_count": 3,
   "source": [
    "texto1 = \"Hola, soy el texto 1\"\r\n",
    "texto2 = 'Hola, soy el texto 2'\r\n",
    "\r\n",
    "# Por defecto, los números serán del formato en entero (a menos de que los escriban como decimal),\r\n",
    "# para poder transformarlos a String, deberán usar la función str():\r\n",
    "numero1 = 1\r\n",
    "texto1 = str(numero1)\r\n",
    "\r\n",
    "# Al printearlos, ambos se ven idénticos\r\n",
    "print(\"Número uno:\", numero1)\r\n",
    "print(\"Texto del número uno:\", texto1)"
   ],
   "outputs": [
    {
     "output_type": "stream",
     "name": "stdout",
     "text": [
      "Número uno: 1\n",
      "Texto del número uno: 1\n"
     ]
    }
   ],
   "metadata": {}
  },
  {
   "cell_type": "markdown",
   "source": [
    "### INTEGER - int()\r\n",
    "Se trata del elemento número entero en Python, por defecto, los números que uno escribe son integers"
   ],
   "metadata": {}
  },
  {
   "cell_type": "code",
   "execution_count": 4,
   "source": [
    "numero1 = 1\r\n",
    "numero2 = 2\r\n",
    "\r\n",
    "# En caso de tener un número en formato de texto (o decimal), podemos pasarlo a entero con la función int()\r\n",
    "texto3 = \"3\"\r\n",
    "numero3 = int(texto3)\r\n",
    "\r\n",
    "decimal3 = 3.0\r\n",
    "numero3 = int(decimal3)\r\n",
    "\r\n",
    "# En caso de tener un número con valores decimales, Python truncará el valor al entero en la unidad:\r\n",
    "decimal = 1.2345\r\n",
    "entero = int(decimal)\r\n",
    "\r\n",
    "print(\"Decimal:\", decimal)\r\n",
    "print(\"Decimal transformado a entero:\", entero)"
   ],
   "outputs": [
    {
     "output_type": "stream",
     "name": "stdout",
     "text": [
      "Decimal: 1.2345\n",
      "Decimal transformado a entero: 1\n"
     ]
    }
   ],
   "metadata": {}
  },
  {
   "cell_type": "markdown",
   "source": [
    "### FLOAT - float()\r\n",
    "Se trata del elemento número decimal en Python, por defecto, los números que uno escribe con un punto y luego los decimales son integers"
   ],
   "metadata": {}
  },
  {
   "cell_type": "code",
   "execution_count": 5,
   "source": [
    "decimal1 = 1.0\r\n",
    "decimal2 = 2.55\r\n",
    "\r\n",
    "# En caso de tener un número en formato de texto (o entero), podemos pasarlo a decimal con la función float()\r\n",
    "texto3 = \"3\"\r\n",
    "decimal3 = float(texto3)\r\n",
    "\r\n",
    "entero3 = 3\r\n",
    "decimal3 = float(entero3)\r\n",
    "\r\n",
    "print(\"String:\", texto3)\r\n",
    "print(\"Entero:\", entero3)\r\n",
    "print(\"Decimal:\", decimal3)"
   ],
   "outputs": [
    {
     "output_type": "stream",
     "name": "stdout",
     "text": [
      "String: 3\n",
      "Entero: 3\n",
      "Decimal: 3.0\n"
     ]
    }
   ],
   "metadata": {}
  },
  {
   "cell_type": "markdown",
   "source": [
    "### BOOL - bool()\r\n",
    "Se trata del elemento booleano en Python, es decir, puede tomar los valores de verdadero o falso"
   ],
   "metadata": {}
  },
  {
   "cell_type": "code",
   "execution_count": 7,
   "source": [
    "verdadero = True    # Recuerden usar la T mayúscula\r\n",
    "falso = False       # Recuerden usar la F mayúscula\r\n",
    "\r\n",
    "# Además, el realizar comparaciones nos retornará un booleano, por ejemplo:\r\n",
    "\r\n",
    "tresmacinco = 3 > 5\r\n",
    "print(\"Es 3 mayor a 5?\", tresmacinco)\r\n",
    "\r\n",
    "dosmesiete = 2 < 7\r\n",
    "print(\"Es 2 menor a 7?\", dosmesiete)\r\n",
    "\r\n",
    "unoigualuno = 1 == 1\r\n",
    "print(\"Es 1 igual a 1?\", unoigualuno)\r\n",
    "\r\n",
    "# No hay por qué asignar cada operación a una variable, podemos imprimirlas directamente:\r\n",
    "print(\"¿ 4 == 2 + 2 ?\", 4 == 2 + 2)\r\n",
    "print(\"¿ 5 >= 4 ?\", 5 >= 4)\r\n",
    "print(\"¿ 8 <= 3 ?\", 8 <= 3)"
   ],
   "outputs": [
    {
     "output_type": "stream",
     "name": "stdout",
     "text": [
      "Es 3 mayor a 5? False\n",
      "Es 2 menor a 7? True\n",
      "Es 1 igual a 1? True\n",
      "¿ 4 == 2 + 2 ? True\n",
      "¿ 5 >= 4 ? True\n",
      "¿ 8 <= 3 ? False\n"
     ]
    }
   ],
   "metadata": {}
  },
  {
   "cell_type": "markdown",
   "source": [
    "## Comandos Básicos de Python"
   ],
   "metadata": {}
  },
  {
   "cell_type": "markdown",
   "source": [
    "## Operaciones matemáticas\r\n",
    "Estas operaciones nos vendrán particularmente útiles a la hora de usar programación como herramienta científica, así que asegurate de aprenderte su simbología"
   ],
   "metadata": {}
  },
  {
   "cell_type": "code",
   "execution_count": 8,
   "source": [
    "# Podemos sumar, restar multiplicar y dividir valores\r\n",
    "\r\n",
    "a = 5\r\n",
    "b = 8\r\n",
    "\r\n",
    "suma = a + b\r\n",
    "print(\"Suma entre a y b:\", suma)\r\n",
    "\r\n",
    "resta = b - a\r\n",
    "print(\"Resta entre b y a:\", resta)\r\n",
    "\r\n",
    "multiplicacion = a * b\r\n",
    "print(\"Multiplicacion entre a y b:\", multiplicacion)\r\n",
    "\r\n",
    "division = a / b\r\n",
    "print(\"Division entre a y b:\", division)"
   ],
   "outputs": [
    {
     "output_type": "stream",
     "name": "stdout",
     "text": [
      "Suma entre a y b: 13\n",
      "Resta entre b y a: 3\n",
      "Multiplicacion entre a y b: 40\n",
      "Division entre a y b: 0.625\n"
     ]
    }
   ],
   "metadata": {}
  },
  {
   "cell_type": "code",
   "execution_count": 9,
   "source": [
    "# También, podeos calcular el resto de una división entre dos números usando el operador \"%\"\r\n",
    "\r\n",
    "print(\"El resto de la división entre 5 y 10 es:\", 5 % 10)\r\n",
    "\r\n",
    "print(\"El resto de la división entre 2 y 7 es:\", 2 % 7)\r\n",
    "\r\n",
    "print(\"El resto de la división entre 6 y 6 es:\", 6 % 6)"
   ],
   "outputs": [
    {
     "output_type": "stream",
     "name": "stdout",
     "text": [
      "El resto de la división entre 5 y 10 es: 5\n",
      "El resto de la división entre 2 y 7 es: 2\n",
      "El resto de la división entre 6 y 6 es: 0\n"
     ]
    }
   ],
   "metadata": {}
  },
  {
   "cell_type": "code",
   "execution_count": 10,
   "source": [
    "# Para elevar un número a una cantidad usamos el doble asterisco \"**\"\r\n",
    "\r\n",
    "print(\"2 elevado a 5 es igual a:\", 2**5)\r\n",
    "\r\n",
    "print(\"1 elevado a 10 es:\", 1**10)"
   ],
   "outputs": [
    {
     "output_type": "stream",
     "name": "stdout",
     "text": [
      "2 elevado a 5 es igual a: 32\n",
      "1 elevado a 10 es: 1\n"
     ]
    }
   ],
   "metadata": {}
  },
  {
   "cell_type": "code",
   "execution_count": 11,
   "source": [
    "# Finalmente, la división entera (el piso de la división) entre dos números\r\n",
    "# se puede calcular usando el operador \"//\"\r\n",
    "\r\n",
    "print(\"La parte entera de la división entre 5 y 2 es:\", 5//2)\r\n",
    "\r\n",
    "print(\"La parte entera de la división entre 3 y 2 es:\", 3//2)\r\n",
    "\r\n",
    "print(\"La parte entera de la división entre 1 y 2 es:\", 1//2)"
   ],
   "outputs": [
    {
     "output_type": "stream",
     "name": "stdout",
     "text": [
      "La parte entera de la división entre 5 y 2 es: 2\n",
      "La parte entera de la división entre 3 y 2 es: 1\n",
      "La parte entera de la división entre 1 y 2 es: 0\n"
     ]
    }
   ],
   "metadata": {}
  },
  {
   "cell_type": "markdown",
   "source": [
    "## Formas de almacenar información\r\n",
    "Muchas veces vas a querer almacenar más de un dato en una variable, afortunadamente, Python tiene varias formas de hacer esto, que veremos a continuación:"
   ],
   "metadata": {}
  },
  {
   "cell_type": "markdown",
   "source": [
    "### LISTA - list()\r\n",
    "Es un conjunto de valores con orden a la que se le pueden añadir o quitar elementos en cualquier momento"
   ],
   "metadata": {}
  },
  {
   "cell_type": "code",
   "execution_count": 12,
   "source": [
    "# Puedes crear una lista usando tanto la función list() con una tupla o lista, o usando los corchetes cuadrados [ ]\r\n",
    "\r\n",
    "# Ambas listas son iguales:\r\n",
    "lista_alfabeto1 = list((\"a\", \"b\", \"c\", \"me aburrí\"))\r\n",
    "lista_alfabeto2 = [\"a\", \"b\", \"c\", \"me aburrí\"]\r\n",
    "\r\n",
    "# Podemos acceder a un elemento específico de una lista indicando el índice\r\n",
    "# en unos corchetes cuadrados de la siguiente forma:\r\n",
    "\r\n",
    "print(\"El primer elemento de la lista es:\", lista_alfabeto1[0])\r\n",
    "\r\n",
    "print(\"El segundo elemento de la lista es:\", lista_alfabeto1[1])\r\n",
    "\r\n",
    "print(\"El último elemento de la lista es:\", lista_alfabeto1[-1])"
   ],
   "outputs": [
    {
     "output_type": "stream",
     "name": "stdout",
     "text": [
      "El primer elemento de la lista es: a\n",
      "El segundo elemento de la lista es: b\n",
      "El último elemento de la lista es: me aburrí\n"
     ]
    }
   ],
   "metadata": {}
  },
  {
   "cell_type": "code",
   "execution_count": 13,
   "source": [
    "# Podemos, además, reemplazar un elemento en cierta posición de la lista por otro de forma similar a como asignamos una variable\r\n",
    "\r\n",
    "lista_ejemplo = [1, \"a\", True, \"10\"]\r\n",
    "\r\n",
    "print(\"Lista antes del reemplazo:\", lista_ejemplo)\r\n",
    "\r\n",
    "lista_ejemplo[0] = \"a\"\r\n",
    "lista_ejemplo[1] = \"b\"\r\n",
    "lista_ejemplo[-1] = \"gato\"\r\n",
    "\r\n",
    "print(\"Lista despues del reemplazo:\", lista_ejemplo)"
   ],
   "outputs": [
    {
     "output_type": "stream",
     "name": "stdout",
     "text": [
      "Lista antes del reemplazo: [1, 'a', True, '10']\n",
      "Lista despues del reemplazo: ['a', 'b', True, 'gato']\n"
     ]
    }
   ],
   "metadata": {}
  },
  {
   "cell_type": "markdown",
   "source": [
    "### TUPLA - tuple()\r\n",
    "Es una estructura bastante similar a una lista, pero no se pueden mover, añadir ni borrar elementos de ella"
   ],
   "metadata": {}
  },
  {
   "cell_type": "code",
   "execution_count": 14,
   "source": [
    "# Las tuplas usan los paréntesis comunes y corrientes\r\n",
    "\r\n",
    "tupla1 = (1, 2, 3, 4, 5)\r\n",
    "tupla2 = tuple([6, 7, 8, 9, 0])     # Convertimos una lista a tupla\r\n",
    "\r\n",
    "print(\"Tupla 1:\", tupla1)\r\n",
    "print(\"Tupla 2:\", tupla2)\r\n",
    "\r\n",
    "# Podemos acceder a cierto elemento de la tupla similar a una lista\r\n",
    "\r\n",
    "print(\"Primer elemento de la Tupla 1:\", tupla1[0])\r\n",
    "print(\"Último elemento de la Tupla 2:\", tupla2[-1])"
   ],
   "outputs": [
    {
     "output_type": "stream",
     "name": "stdout",
     "text": [
      "Tupla 1: (1, 2, 3, 4, 5)\n",
      "Tupla 2: (6, 7, 8, 9, 0)\n",
      "Primer elemento de la Tupla 1: 1\n",
      "Último elemento de la Tupla 2: 0\n"
     ]
    }
   ],
   "metadata": {}
  },
  {
   "cell_type": "markdown",
   "source": [
    "### DICCIONARIOS - dict()\r\n",
    "Nos permite guardar elementos con llaves, es decir, nos permiten acceder a cierto dato dentro de un diccionario usando su llave asociada (podría interpretarse como poder acceder a la definición de una palabra en un diccionario usando esa misma palabra)"
   ],
   "metadata": {}
  },
  {
   "cell_type": "code",
   "execution_count": 15,
   "source": [
    "# Definiremos nuestro primer diccionario usando los corchetes { }:\r\n",
    "\r\n",
    "primer_dict = {\"llave1\": \"valor1\", \"llave2\": \"valor2\"}\r\n",
    "\r\n",
    "print(primer_dict)\r\n",
    "print(\"Elemento con llave 'llave1' del diccionario:\", primer_dict[\"llave1\"])\r\n",
    "\r\n",
    "# Podemos acceder a una lista con las llaves del diccionario usando el método keys()\r\n",
    "\r\n",
    "print(primer_dict.keys())\r\n",
    "# (En realidad debemos convertir esto a una lista usando list(primer_dict.keys()) )\r\n",
    "\r\n",
    "# Podemos acceder a una lista con los valores del diccionario usando el método values()\r\n",
    "\r\n",
    "print(primer_dict.values())\r\n",
    "# (En realidad debemos convertir esto a una lista usando list(primer_dict.values()) )"
   ],
   "outputs": [
    {
     "output_type": "stream",
     "name": "stdout",
     "text": [
      "{'llave1': 'valor1', 'llave2': 'valor2'}\n",
      "Elemento con llave 'llave1' del diccionario: valor1\n",
      "dict_keys(['llave1', 'llave2'])\n",
      "dict_values(['valor1', 'valor2'])\n"
     ]
    }
   ],
   "metadata": {}
  },
  {
   "cell_type": "code",
   "execution_count": 16,
   "source": [
    "# Otra forma de crear un diccionario es con la función dict() de la siguiente forma:\r\n",
    "\r\n",
    "diccionario = dict(conejo = \"Animal peludo de cuatro patas con orejas largas\", pez = \"Animal escamoso que nada por el agua\",\r\n",
    "                    elefante = \"Animal gigante con colmillos saliendo de su boca y trompa\", pajaro = \"Animal con plumas que puede volar\")\r\n",
    "\r\n",
    "# Así creamos un diccionario con la definición de algunos animales, OJO con que las llaves del diccionario no llevan comillas en este formato\r\n",
    "\r\n",
    "# Si iteramos sobre las llaves del diccionario e imprimimos la definición de cada animal tendríamos algo así:\r\n",
    "# (Vamos a ver como iterar en la siguiente sección, no se preocupen)\r\n",
    "for animal in diccionario.keys():\r\n",
    "    print(f\"Definición de {animal}:\", diccionario[animal])"
   ],
   "outputs": [
    {
     "output_type": "stream",
     "name": "stdout",
     "text": [
      "Definición de conejo: Animal peludo de cuatro patas con orejas largas\n",
      "Definición de pez: Animal escamoso que nada por el agua\n",
      "Definición de elefante: Animal gigante con colmillos saliendo de su boca y trompa\n",
      "Definición de pajaro: Animal con plumas que puede volar\n"
     ]
    }
   ],
   "metadata": {}
  },
  {
   "cell_type": "markdown",
   "source": [
    "## Iterar información\r\n",
    "Una de las gracias de la programación es que podemos hacer múltiples repeticiones de una misma tarea de forma mucho más rápida que si lo hiciésemos a mano, por ello, es importante aprender a iterar sobre un conjunto de datos.\r\n",
    "\r\n",
    "¿Qué es iterar? Iterar consiste en recorrer toda la estructura mediante cada uno de sus elementos, por ejemplo, si tuviesemos una lista de la forma [\"a\", \"b\", \"c\"], la iteraríamos partiendo en \"a\", luego pasaríamos a \"b\" y finalmente a \"c\".\r\n",
    "\r\n",
    "Algo importante a saber es que la variable que usamos para iterar **NO SE GUARDA**, esto quiere decir que solo podemos usarla dentro del loop del *for*"
   ],
   "metadata": {}
  },
  {
   "cell_type": "code",
   "execution_count": 16,
   "source": [
    "# El ejemplo anterior en código sería de la siguiente forma:\r\n",
    "\r\n",
    "lista_ejemplo = [\"a\", \"b\", \"c\"]\r\n",
    "\r\n",
    "# Iteramos estructuras usando la palabra for de la siguiente forma\r\n",
    "\r\n",
    "print(\"Comenzando a iterar lista_ejemplo\")\r\n",
    "\r\n",
    "for iterador in lista_ejemplo:                              # Iterador tomará el valor de un elemento de lista_ejemplo en cada iteración de la lista\r\n",
    "    print(\"El iterador ahora se encuentra en:\", iterador)   # llamamos a nuestra variable \"iterador\" arriba, pero podemos asignarle el nombre que queramos\r\n",
    "\r\n",
    "print(\"Terminó\")"
   ],
   "outputs": [
    {
     "output_type": "stream",
     "name": "stdout",
     "text": [
      "Comenzando a iterar lista_ejemplo\n",
      "El iterador ahora se encuentra en: a\n",
      "El iterador ahora se encuentra en: b\n",
      "El iterador ahora se encuentra en: c\n",
      "Terminó\n"
     ]
    }
   ],
   "metadata": {}
  },
  {
   "cell_type": "markdown",
   "source": [
    "Entre las estructuras de datos que podemos iterar encontramos listas, tuplas, diccionarios y prácticamente cualquier cosa que contenga múltiples elementos, hay que tener ojo en como itera cada uno eso sí:"
   ],
   "metadata": {}
  },
  {
   "cell_type": "code",
   "execution_count": 17,
   "source": [
    "# Las listas y tuplas iteran de la misma forma, así:\r\n",
    "\r\n",
    "lista_ejemplo = [1, 2, 3]\r\n",
    "tupla_ejemplo = (1, 2, 3)\r\n",
    "\r\n",
    "# Iteramos sobre la lista\r\n",
    "for i in lista_ejemplo:\r\n",
    "    print(i)\r\n",
    "\r\n",
    "# Iteramos sobre la tupla\r\n",
    "for i in tupla_ejemplo:\r\n",
    "    print(i)"
   ],
   "outputs": [
    {
     "output_type": "stream",
     "name": "stdout",
     "text": [
      "1\n",
      "2\n",
      "3\n",
      "1\n",
      "2\n",
      "3\n"
     ]
    }
   ],
   "metadata": {}
  },
  {
   "cell_type": "code",
   "execution_count": 18,
   "source": [
    "# Ahora, iteraremos sobre un diccionario:\r\n",
    "\r\n",
    "dict_ejemplo = {\"a\": \"1\", \"b\": \"2\", \"c\": \"3\"}\r\n",
    "\r\n",
    "for i in dict_ejemplo:\r\n",
    "    print(i)"
   ],
   "outputs": [
    {
     "output_type": "stream",
     "name": "stdout",
     "text": [
      "a\n",
      "b\n",
      "c\n"
     ]
    }
   ],
   "metadata": {}
  },
  {
   "cell_type": "markdown",
   "source": [
    "Como vemos, al iterar sobre un diccionario obtendremos sus llaves, para acceder a sus valores debemos iterar sobre dict_ejemplo.values()"
   ],
   "metadata": {}
  },
  {
   "cell_type": "code",
   "execution_count": 19,
   "source": [
    "for i in dict_ejemplo.values():\r\n",
    "    print(i)"
   ],
   "outputs": [
    {
     "output_type": "stream",
     "name": "stdout",
     "text": [
      "1\n",
      "2\n",
      "3\n"
     ]
    }
   ],
   "metadata": {}
  },
  {
   "cell_type": "markdown",
   "source": [
    "También, podemos iterar sobre un rango de valores numéricos, de la siguiente forma:"
   ],
   "metadata": {}
  },
  {
   "cell_type": "code",
   "execution_count": 20,
   "source": [
    "for i in range(10):     # i tomará valores desde el 0 hasta el 9 (10 no se incluye)\r\n",
    "    print(i)"
   ],
   "outputs": [
    {
     "output_type": "stream",
     "name": "stdout",
     "text": [
      "0\n",
      "1\n",
      "2\n",
      "3\n",
      "4\n",
      "5\n",
      "6\n",
      "7\n",
      "8\n",
      "9\n"
     ]
    }
   ],
   "metadata": {}
  },
  {
   "cell_type": "code",
   "execution_count": 21,
   "source": [
    "for i in range(4, 28, 3):   # Especificamos en la función range(comienzo, final, tamaño de cada paso)\r\n",
    "    print(i)"
   ],
   "outputs": [
    {
     "output_type": "stream",
     "name": "stdout",
     "text": [
      "4\n",
      "7\n",
      "10\n",
      "13\n",
      "16\n",
      "19\n",
      "22\n",
      "25\n"
     ]
    }
   ],
   "metadata": {}
  },
  {
   "cell_type": "markdown",
   "source": [
    "## IF/ELSE\r\n",
    "Nos permiten generar condiciones para ejecutar nuestro código, por ejemplo, si estamos iterando una lista y solo queremos imprimir los numeros pares, podemos hacerlo de la siguiente forma:"
   ],
   "metadata": {}
  },
  {
   "cell_type": "code",
   "execution_count": 18,
   "source": [
    "lista_numeros = list(range(1, 16)) # Esto es equivalente a hacer lista_numeros = [1, 2, 3, ..., 15]\r\n",
    "\r\n",
    "for numero in lista_numeros:\r\n",
    "    if numero % 2 == 0:\r\n",
    "        print(numero)"
   ],
   "outputs": [
    {
     "output_type": "stream",
     "name": "stdout",
     "text": [
      "2\n",
      "4\n",
      "6\n",
      "8\n",
      "10\n",
      "12\n",
      "14\n"
     ]
    }
   ],
   "metadata": {}
  },
  {
   "cell_type": "markdown",
   "source": [
    "El if ejecutará el código indentado debajo de él si y solo si la condición dentro de este es verdadera, en caso contrario, podemos utilizar else para responder de otra forma sino o bien no hacer nada:"
   ],
   "metadata": {}
  },
  {
   "cell_type": "code",
   "execution_count": 23,
   "source": [
    "palabra = \"hola\"\r\n",
    "\r\n",
    "if palabra == \"chao\":\r\n",
    "    print(palabra)\r\n",
    "\r\n",
    "else:\r\n",
    "    print(\"No se estaba despidiendo\")"
   ],
   "outputs": [
    {
     "output_type": "stream",
     "name": "stdout",
     "text": [
      "No se estaba despidiendo\n"
     ]
    }
   ],
   "metadata": {}
  },
  {
   "cell_type": "code",
   "execution_count": 24,
   "source": [
    "# Podemos además anidar un if dentro de otro de la siguiente forma\r\n",
    "\r\n",
    "lista_numeros = list(range(10))\r\n",
    "\r\n",
    "for x in lista_numeros:\r\n",
    "    if x > 5:\r\n",
    "        if x - 1 == 3:\r\n",
    "            print(\"x es igual a 4!\")    # Como vemos, esta línea nunca se ejecutará ya que para entrar en el if de arriba, x debía ser mayor a 5\r\n",
    "\r\n",
    "        else:\r\n",
    "            print(\"x es mayor a 5, pero no igual a 4\")\r\n",
    "    \r\n",
    "    elif x < 2:\r\n",
    "        print(\"x es menor a 2\")\r\n",
    "\r\n",
    "    else:\r\n",
    "        print(\"x no es ni mayor a 5, ni menor a 2\")"
   ],
   "outputs": [
    {
     "output_type": "stream",
     "name": "stdout",
     "text": [
      "x es menor a 2\n",
      "x es menor a 2\n",
      "x no es ni mayor a 5, ni menor a 2\n",
      "x no es ni mayor a 5, ni menor a 2\n",
      "x no es ni mayor a 5, ni menor a 2\n",
      "x no es ni mayor a 5, ni menor a 2\n",
      "x es mayor a 5, pero no igual a 4\n",
      "x es mayor a 5, pero no igual a 4\n",
      "x es mayor a 5, pero no igual a 4\n",
      "x es mayor a 5, pero no igual a 4\n"
     ]
    }
   ],
   "metadata": {}
  },
  {
   "cell_type": "markdown",
   "source": [
    "## Funciones\r\n",
    "Para evitar hacer una misma labor múltiples veces, Python nos permite crear las llamadas *funciones*, que reciben un *input* o entrada y retornan un *output* o salida, unos ejemplos básicos de funciones serían estos:"
   ],
   "metadata": {}
  },
  {
   "cell_type": "code",
   "execution_count": 25,
   "source": [
    "# Comenzamos definiendo la función por nombre y entradas\r\n",
    "\r\n",
    "def imprimir(x):    # Recuerden indentar todo lo que se encuentre dentro de la función (tener espaciado)\r\n",
    "    print(x)        # Esta función no retorna nada, solo imprime la entrada\r\n",
    "\r\n",
    "imprimir(\"Hola! :)\")    # Podemos ahora usar nuestra función para imprimir cosas!"
   ],
   "outputs": [
    {
     "output_type": "stream",
     "name": "stdout",
     "text": [
      "Hola! :)\n"
     ]
    }
   ],
   "metadata": {}
  },
  {
   "cell_type": "markdown",
   "source": [
    "Como se comentó anteriormente, las funciones pueden retornar cosas, esto quiere decir que podemos asignarle a una variable el resultado de ella de la siguiente forma:"
   ],
   "metadata": {}
  },
  {
   "cell_type": "code",
   "execution_count": 26,
   "source": [
    "def sumar_uno(i):\r\n",
    "    return i+1\r\n",
    "\r\n",
    "for num in [1, 6, 12, 52, 34]:\r\n",
    "    print(sumar_uno(num))"
   ],
   "outputs": [
    {
     "output_type": "stream",
     "name": "stdout",
     "text": [
      "2\n",
      "7\n",
      "13\n",
      "53\n",
      "35\n"
     ]
    }
   ],
   "metadata": {}
  },
  {
   "cell_type": "code",
   "execution_count": 27,
   "source": [
    "a = 1\r\n",
    "b = sumar_uno(a)\r\n",
    "\r\n",
    "print(\"a:\", a)\r\n",
    "print(\"b:\", b)"
   ],
   "outputs": [
    {
     "output_type": "stream",
     "name": "stdout",
     "text": [
      "a: 1\n",
      "b: 2\n"
     ]
    }
   ],
   "metadata": {}
  },
  {
   "cell_type": "code",
   "execution_count": 28,
   "source": [
    "# Podemos hacer funciones más complejas utilizando lo que aprendimos:\r\n",
    "\r\n",
    "def sumatoria(numero):\r\n",
    "\r\n",
    "    sumatoria = 0\r\n",
    "\r\n",
    "    for i in range(1, numero + 1):\r\n",
    "        sumatoria = sumatoria + i\r\n",
    "    \r\n",
    "    return sumatoria\r\n",
    "\r\n",
    "print(sumatoria(6))"
   ],
   "outputs": [
    {
     "output_type": "stream",
     "name": "stdout",
     "text": [
      "21\n"
     ]
    }
   ],
   "metadata": {}
  },
  {
   "cell_type": "code",
   "execution_count": 29,
   "source": [
    "def sumatoria_par_factorial_impar(numero):\r\n",
    "    # Si el número es par, haremos su sumatoria, si es impar, haremos su factorial:\r\n",
    "\r\n",
    "    if numero % 2 == 0:      # Si el resto de la división del número con dos es cero, entonces es par\r\n",
    "        return sumatoria(numero)    # Podemos usar la función que ya definimos :)\r\n",
    "\r\n",
    "    else:                       # Si no es par, es impar\r\n",
    "        factorial = 1\r\n",
    "\r\n",
    "        for i in range(1, numero + 1):\r\n",
    "            factorial = factorial * i\r\n",
    "        \r\n",
    "        return factorial\r\n",
    "\r\n",
    "for i in [1, 5, 6, 12, 15]:\r\n",
    "    print(\"Función para\", i, \":\", sumatoria_par_factorial_impar(i))"
   ],
   "outputs": [
    {
     "output_type": "stream",
     "name": "stdout",
     "text": [
      "Función para 1 : 1\n",
      "Función para 5 : 120\n",
      "Función para 6 : 21\n",
      "Función para 12 : 78\n",
      "Función para 15 : 1307674368000\n"
     ]
    }
   ],
   "metadata": {}
  },
  {
   "cell_type": "markdown",
   "source": [
    "## Clases y Objetos\r\n",
    "Python nos permite crear objetos que pueden tener sus propias propiedades (así como un diccionario) y también sus propias funciones (que llamaremos métodos), estos se llaman **Clases**"
   ],
   "metadata": {}
  },
  {
   "cell_type": "code",
   "execution_count": 30,
   "source": [
    "# Definimos una clase con la palabra class:\r\n",
    "\r\n",
    "class Numero():                             # Definimos el nombre de nuestra clase\r\n",
    "    def __init__(self, valor_numero):       # Inicializamos nuestra clase, es decir, esto se ejecuta cuando creemos algun elemento de esta clase\r\n",
    "        self.valor = valor_numero           # Asignamos el valor a una variable del objeto\r\n",
    "\r\n",
    "    def cuanto_vales(self):                 # Todos los métodos de una clase deben tener como parámetro self\r\n",
    "        print(self.valor)                   # Accedemos a las variables del objeto con self.nombre_variable\r\n",
    "\r\n",
    "    def sumame_esto(self, suma):\r\n",
    "        self.valor = self.valor + suma      # Le sumamos a Numero el valor suma, ahora su valor es esta suma"
   ],
   "outputs": [],
   "metadata": {}
  },
  {
   "cell_type": "code",
   "execution_count": 31,
   "source": [
    "num_ejemplo = Numero(1)         # Asignamos a la variable num_ejemplo una instancia del objeto Numero que inicializamos con valor_numero = 1\r\n",
    "\r\n",
    "num_ejemplo.cuanto_vales()      # Podemos ejecutar los métodos de un objeto mediante variable_objeto.metodo(parametros)"
   ],
   "outputs": [
    {
     "output_type": "stream",
     "name": "stdout",
     "text": [
      "1\n"
     ]
    }
   ],
   "metadata": {}
  },
  {
   "cell_type": "code",
   "execution_count": 32,
   "source": [
    "num_ejemplo.sumame_esto(4)      # Le sumamos el valor 4 al número\r\n",
    "num_ejemplo.cuanto_vales()      # Ahora el número vale 5"
   ],
   "outputs": [
    {
     "output_type": "stream",
     "name": "stdout",
     "text": [
      "5\n"
     ]
    }
   ],
   "metadata": {}
  },
  {
   "cell_type": "code",
   "execution_count": 33,
   "source": [
    "num_ejemplo.sumame_esto(4)      # Le sumamos el valor 4 al número\r\n",
    "num_ejemplo.cuanto_vales()      # Ahora el número vale 9"
   ],
   "outputs": [
    {
     "output_type": "stream",
     "name": "stdout",
     "text": [
      "9\n"
     ]
    }
   ],
   "metadata": {}
  },
  {
   "cell_type": "markdown",
   "source": [
    "Las clases resultan muy poderosas para poder programar, si bien no las usaremos tanto dentro del curso, son un buen recurso a saber, si quieres indagar más en ellas o te costó entenderlas, te recomiendo buscar en internet o ver [esta serie de tutoriales de programación orientada a objetos](https://www.youtube.com/watch?v=aj4PEXq0zuc)"
   ],
   "metadata": {}
  },
  {
   "cell_type": "markdown",
   "source": [
    "### Eso debería ser el repaso de introducción a la programación, a partir de ahora, asumiremos que entiendes a nivel conceptual y en código estos conceptos, no te preocupes si todavía no los tienes 100% claros, trabajando en tu tarea podrás consolidar la materia :)"
   ],
   "metadata": {}
  }
 ],
 "metadata": {
  "orig_nbformat": 4,
  "language_info": {
   "name": "python",
   "version": "3.8.10",
   "mimetype": "text/x-python",
   "codemirror_mode": {
    "name": "ipython",
    "version": 3
   },
   "pygments_lexer": "ipython3",
   "nbconvert_exporter": "python",
   "file_extension": ".py"
  },
  "kernelspec": {
   "name": "python3",
   "display_name": "Python 3.8.10 64-bit"
  },
  "interpreter": {
   "hash": "fb7778c8ac7f3256d864009f1a5350a51e8a8d6549b26a38ef97d51252b853c4"
  }
 },
 "nbformat": 4,
 "nbformat_minor": 2
}