{
 "cells": [
  {
   "cell_type": "code",
   "execution_count": 26,
   "source": [
    "import numpy as np\r\n",
    "from matplotlib import pyplot as plt\r\n",
    "import sympy as sp"
   ],
   "outputs": [],
   "metadata": {}
  },
  {
   "cell_type": "code",
   "execution_count": 18,
   "source": [
    "# Construimos la matriz de transformacion desde Base b hasta J1\r\n",
    "\r\n",
    "q = (30*np.pi) / 180 # El angulo es 30 grados pero se pasa a radianes\r\n",
    "R = np.array([[np.cos(q), -np.sin(q), 0],\r\n",
    "            [np.sin(q), np.cos(q), 0],\r\n",
    "            [0        , 0        , 1]])\r\n",
    "\r\n",
    "t = np.array([[100*np.cos((120* np.pi) / 180)], \r\n",
    "             [100*np.sin((120* np.pi) / 180)],\r\n",
    "             [0]]) \r\n",
    "#Construimos la matriz homogenea        \r\n",
    "Rt = np.concatenate((R, t), axis=1)\r\n",
    "Tb1 = np.concatenate((Rt, [[0,0,0,1]]), axis=0)\r\n",
    "print(Tb1)"
   ],
   "outputs": [
    {
     "output_type": "stream",
     "name": "stdout",
     "text": [
      "[[  0.8660254   -0.5          0.         -50.        ]\n",
      " [  0.5          0.8660254    0.          86.60254038]\n",
      " [  0.           0.           1.           0.        ]\n",
      " [  0.           0.           0.           1.        ]]\n"
     ]
    }
   ],
   "metadata": {}
  },
  {
   "cell_type": "code",
   "execution_count": 22,
   "source": [
    "# Construimos la matriz de transformacion desde J1 hasta 21\r\n",
    "\r\n",
    "q = (0*np.pi) / 180 # El angulo es 30 grados pero se pasa a radianes\r\n",
    "R = np.array([[np.cos(q), -np.sin(q), 0],\r\n",
    "            [np.sin(q), np.cos(q), 0],\r\n",
    "            [0        , 0        , 1]])\r\n",
    "\r\n",
    "t = np.array([[100], \r\n",
    "             [0],\r\n",
    "             [0]]) \r\n",
    "#Construimos la matriz homogenea        \r\n",
    "Rt = np.concatenate((R, t), axis=1)\r\n",
    "T12 = np.concatenate((Rt, [[0,0,0,1]]), axis=0)\r\n",
    "print(T12)"
   ],
   "outputs": [
    {
     "output_type": "stream",
     "name": "stdout",
     "text": [
      "[[  1.  -0.   0. 100.]\n",
      " [  0.   1.   0.   0.]\n",
      " [  0.   0.   1.   0.]\n",
      " [  0.   0.   0.   1.]]\n"
     ]
    }
   ],
   "metadata": {}
  },
  {
   "cell_type": "code",
   "execution_count": 20,
   "source": [
    "# Construimos la matriz de transformacion desde J2 hasta ee\r\n",
    "\r\n",
    "q = (-45*np.pi) / 180 # El angulo es 30 grados pero se pasa a radianes\r\n",
    "R = np.array([[np.cos(q), -np.sin(q), 0],\r\n",
    "            [np.sin(q), np.cos(q), 0],\r\n",
    "            [0        , 0        , 1]])\r\n",
    "\r\n",
    "t = np.array([[50*np.cos(q)], \r\n",
    "             [50*np.sin(q)],\r\n",
    "             [0]]) \r\n",
    "#Construimos la matriz homogenea        \r\n",
    "Rt = np.concatenate((R, t), axis=1)\r\n",
    "T2ee = np.concatenate((Rt, [[0,0,0,1]]), axis=0)\r\n",
    "print(T2ee)\r\n"
   ],
   "outputs": [
    {
     "output_type": "stream",
     "name": "stdout",
     "text": [
      "[[  0.70710678   0.70710678   0.          35.35533906]\n",
      " [ -0.70710678   0.70710678   0.         -35.35533906]\n",
      " [  0.           0.           1.           0.        ]\n",
      " [  0.           0.           0.           1.        ]]\n"
     ]
    }
   ],
   "metadata": {}
  },
  {
   "cell_type": "code",
   "execution_count": 35,
   "source": [
    "# Con los valores obtenido calculamos Tbee = Tb1* T12 * T2ee\r\n",
    "\r\n",
    "Tb2 = Tb1.dot(T12) # El producto matricial de Tb1 y Tb2\r\n",
    "print(Tb2)\r\n",
    "Tbee = Tb2.dot(T2ee) # El producto matricial de Tb2 y T2ee\r\n",
    "print(Tbee)"
   ],
   "outputs": [
    {
     "output_type": "stream",
     "name": "stdout",
     "text": [
      "[[  0.8660254   -0.5          0.          36.60254038]\n",
      " [  0.5          0.8660254    0.         136.60254038]\n",
      " [  0.           0.           1.           0.        ]\n",
      " [  0.           0.           0.           1.        ]]\n",
      "[[  0.96592583   0.25881905   0.          84.89883169]\n",
      " [ -0.25881905   0.96592583   0.         123.66158812]\n",
      " [  0.           0.           1.           0.        ]\n",
      " [  0.           0.           0.           1.        ]]\n"
     ]
    }
   ],
   "metadata": {}
  },
  {
   "cell_type": "code",
   "execution_count": 42,
   "source": [
    "# Para graficar tomamos las coordenadas de los puntos de interes\r\n",
    "x_J1 = Tb1[0,3]\r\n",
    "y_J1 = Tb1[1, 3]\r\n",
    "x_J2 = Tb2[0,3]\r\n",
    "y_J2 = Tb2[1,3]\r\n",
    "x_ee = Tbee[0,3]\r\n",
    "y_ee = Tbee[1,3]\r\n",
    "\r\n",
    "fig, axes = plt.subplots()\r\n",
    "# Primero los puntos\r\n",
    "plt.plot(0,0, \"o\")\r\n",
    "plt.plot(x_J1, y_J1, \"o\")\r\n",
    "plt.plot(x_J2, y_J2, \"o\")\r\n",
    "plt.plot(x_ee, y_ee, \"x\")\r\n",
    "# Las lineas\r\n",
    "plt.plot([0, x_J1, x_J2, x_ee], [0, y_J1, y_J2, y_ee])\r\n",
    "# Ajustamos los ejes\r\n",
    "axes.set_xlim(-140, 140)\r\n",
    "axes.set_ylim(0, 140)"
   ],
   "outputs": [
    {
     "output_type": "execute_result",
     "data": {
      "text/plain": [
       "(0.0, 140.0)"
      ]
     },
     "metadata": {},
     "execution_count": 42
    },
    {
     "output_type": "display_data",
     "data": {
      "image/png": "[encoded data removed]",
      "text/plain": [
       "<Figure size 432x288 with 1 Axes>"
      ]
     },
     "metadata": {
      "needs_background": "light"
     }
    }
   ],
   "metadata": {}
  }
 ],
 "metadata": {
  "orig_nbformat": 4,
  "language_info": {
   "name": "python",
   "version": "3.8.10",
   "mimetype": "text/x-python",
   "codemirror_mode": {
    "name": "ipython",
    "version": 3
   },
   "pygments_lexer": "ipython3",
   "nbconvert_exporter": "python",
   "file_extension": ".py"
  },
  "kernelspec": {
   "name": "python3",
   "display_name": "Python 3.8.10 64-bit"
  },
  "interpreter": {
   "hash": "fb7778c8ac7f3256d864009f1a5350a51e8a8d6549b26a38ef97d51252b853c4"
  }
 },
 "nbformat": 4,
 "nbformat_minor": 2
}